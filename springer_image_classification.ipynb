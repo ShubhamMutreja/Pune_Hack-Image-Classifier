{
 "cells": [
  {
   "cell_type": "code",
   "execution_count": 1,
   "metadata": {},
   "outputs": [
    {
     "name": "stderr",
     "output_type": "stream",
     "text": [
      "C:\\Users\\Vasudev\\Python\\lib\\site-packages\\h5py\\__init__.py:34: FutureWarning: Conversion of the second argument of issubdtype from `float` to `np.floating` is deprecated. In future, it will be treated as `np.float64 == np.dtype(float).type`.\n",
      "  from ._conv import register_converters as _register_converters\n",
      "Using TensorFlow backend.\n"
     ]
    }
   ],
   "source": [
    "import numpy as np\n",
    "import glob\n",
    "from PIL import Image\n",
    "import matplotlib.pyplot as plt\n",
    "from sklearn.cluster import KMeans\n",
    "from sklearn import tree\n",
    "from keras.models import Sequential\n",
    "from keras.optimizers import Adam,SGD\n",
    "from keras.layers.core import Dense, Dropout, Flatten\n",
    "from keras.losses import binary_crossentropy"
   ]
  },
  {
   "cell_type": "code",
   "execution_count": 2,
   "metadata": {
    "collapsed": true
   },
   "outputs": [],
   "source": [
    "# As images are of different sizes,\n",
    "# we resize them as 500,500,3 to standardize\n",
    "STD_IMAGE_HEIGHT=50\n",
    "STD_IMAGE_WIDTH=50\n",
    "\n",
    "GREY_IMAGE=1\n",
    "COLOR_IMAGE=2"
   ]
  },
  {
   "cell_type": "code",
   "execution_count": 3,
   "metadata": {
    "collapsed": true
   },
   "outputs": [],
   "source": [
    "# Function for Importing Images\n",
    "def import_images(file_path):\n",
    "    images=[]\n",
    "    for image in glob.glob(file_path+'/*.jpg'):\n",
    "        imported_img=Image.open(image)\n",
    "        images.append(imported_img.resize((STD_IMAGE_WIDTH,STD_IMAGE_HEIGHT),Image.ANTIALIAS))\n",
    "    return images"
   ]
  },
  {
   "cell_type": "code",
   "execution_count": 4,
   "metadata": {
    "collapsed": true
   },
   "outputs": [],
   "source": [
    "# Importing training dataset\n",
    "grey_images=import_images('./Dataset/Train/grey')\n",
    "color_images=import_images('./Dataset/Train/color')"
   ]
  },
  {
   "cell_type": "code",
   "execution_count": 5,
   "metadata": {
    "collapsed": true
   },
   "outputs": [],
   "source": [
    "def render_rgb_list(images):\n",
    "    features=[]\n",
    "    for image in images:\n",
    "        rgb_list=np.asarray(image)\n",
    "        rgb_list=rgb_list.reshape(rgb_list.shape[0]*rgb_list.shape[1],3)\n",
    "        features.append(rgb_list)\n",
    "    return features\n",
    "\n",
    "grey_features=render_rgb_list(grey_images)\n",
    "color_features=render_rgb_list(color_images)"
   ]
  },
  {
   "cell_type": "code",
   "execution_count": 6,
   "metadata": {
    "collapsed": true
   },
   "outputs": [],
   "source": [
    "# Clustering pixel intensities\n",
    "k_means=KMeans(n_clusters=5)"
   ]
  },
  {
   "cell_type": "code",
   "execution_count": 7,
   "metadata": {
    "collapsed": true
   },
   "outputs": [],
   "source": [
    "def dominant_colors(data_point):\n",
    "    k_means.fit_transform(data_point)\n",
    "    num_labels=np.arange(0,len(np.unique(k_means.labels_))+1)\n",
    "    (hist, _) = np.histogram(k_means.labels_, bins = num_labels)\n",
    "    hist = hist.astype(\"float\")\n",
    "    hist /= hist.sum()\n",
    "    return hist"
   ]
  },
  {
   "cell_type": "code",
   "execution_count": 8,
   "metadata": {
    "collapsed": true
   },
   "outputs": [],
   "source": [
    "def formalize_dataset(feature_arr,class_label,features,classes):\n",
    "    for i in range(len(feature_arr)):\n",
    "        features.append(dominant_colors(feature_arr[i]))\n",
    "        classes.append(class_label)"
   ]
  },
  {
   "cell_type": "code",
   "execution_count": 9,
   "metadata": {
    "collapsed": true
   },
   "outputs": [],
   "source": [
    "features=[]\n",
    "classes=[]\n",
    "formalize_dataset(grey_features,GREY_IMAGE,features,classes)\n",
    "formalize_dataset(color_features,COLOR_IMAGE,features,classes)"
   ]
  },
  {
   "cell_type": "code",
   "execution_count": 10,
   "metadata": {
    "collapsed": true
   },
   "outputs": [],
   "source": [
    "tree_classifier=tree.DecisionTreeClassifier()"
   ]
  },
  {
   "cell_type": "code",
   "execution_count": 11,
   "metadata": {},
   "outputs": [
    {
     "data": {
      "text/plain": [
       "DecisionTreeClassifier(class_weight=None, criterion='gini', max_depth=None,\n",
       "            max_features=None, max_leaf_nodes=None,\n",
       "            min_impurity_split=1e-07, min_samples_leaf=1,\n",
       "            min_samples_split=2, min_weight_fraction_leaf=0.0,\n",
       "            presort=False, random_state=None, splitter='best')"
      ]
     },
     "execution_count": 11,
     "metadata": {},
     "output_type": "execute_result"
    }
   ],
   "source": [
    "tree_classifier.fit(features,classes)"
   ]
  },
  {
   "cell_type": "code",
   "execution_count": 12,
   "metadata": {
    "collapsed": true
   },
   "outputs": [],
   "source": [
    "# Importing Testing data\n",
    "grey_test=import_images('./Dataset/Test/grey')\n",
    "grey_test_features=render_rgb_list(grey_test)\n",
    "color_test=import_images('./Dataset/Test/color')\n",
    "color_test_features=render_rgb_list(color_test)\n",
    "test_features=[]\n",
    "test_classes=[]\n",
    "formalize_dataset(grey_test_features,GREY_IMAGE,test_features,test_classes)\n",
    "formalize_dataset(color_test_features,COLOR_IMAGE,test_features,test_classes)"
   ]
  },
  {
   "cell_type": "code",
   "execution_count": 13,
   "metadata": {},
   "outputs": [
    {
     "data": {
      "text/plain": [
       "0.7333333333333333"
      ]
     },
     "execution_count": 13,
     "metadata": {},
     "output_type": "execute_result"
    }
   ],
   "source": [
    "tree_classifier.score(test_features,test_classes)"
   ]
  },
  {
   "cell_type": "code",
   "execution_count": 14,
   "metadata": {},
   "outputs": [
    {
     "data": {
      "text/plain": [
       "(5,)"
      ]
     },
     "execution_count": 14,
     "metadata": {},
     "output_type": "execute_result"
    }
   ],
   "source": [
    "np.array(features[0]).shape"
   ]
  },
  {
   "cell_type": "code",
   "execution_count": 37,
   "metadata": {
    "collapsed": true
   },
   "outputs": [],
   "source": [
    "model=Sequential()"
   ]
  },
  {
   "cell_type": "code",
   "execution_count": 38,
   "metadata": {},
   "outputs": [],
   "source": [
    "model.add(Dense(5, input_dim=5, activation='softmax'))\n",
    "model.add(Dense(25, activation='softmax'))\n",
    "model.add(Dense(125, activation='softmax'))\n",
    "model.add(Dense(1, activation='softmax'))"
   ]
  },
  {
   "cell_type": "code",
   "execution_count": 39,
   "metadata": {},
   "outputs": [],
   "source": [
    "model.compile(loss='binary_crossentropy', optimizer='adam', metrics=['accuracy'])"
   ]
  },
  {
   "cell_type": "code",
   "execution_count": 41,
   "metadata": {},
   "outputs": [
    {
     "name": "stdout",
     "output_type": "stream",
     "text": [
      "Epoch 1/200\n",
      "211/211 [==============================] - 0s 383us/step - loss: -8.3112 - acc: 0.4787\n",
      "Epoch 2/200\n",
      "211/211 [==============================] - 0s 364us/step - loss: -8.3112 - acc: 0.4787\n",
      "Epoch 3/200\n",
      "211/211 [==============================] - 0s 392us/step - loss: -8.3112 - acc: 0.4787\n",
      "Epoch 4/200\n",
      "211/211 [==============================] - 0s 364us/step - loss: -8.3112 - acc: 0.4787\n",
      "Epoch 5/200\n",
      "211/211 [==============================] - 0s 359us/step - loss: -8.3112 - acc: 0.4787\n",
      "Epoch 6/200\n",
      "211/211 [==============================] - 0s 359us/step - loss: -8.3112 - acc: 0.4787\n",
      "Epoch 7/200\n",
      "211/211 [==============================] - 0s 378us/step - loss: -8.3112 - acc: 0.4787\n",
      "Epoch 8/200\n",
      "211/211 [==============================] - 0s 369us/step - loss: -8.3112 - acc: 0.4787\n",
      "Epoch 9/200\n",
      "211/211 [==============================] - 0s 352us/step - loss: -8.3112 - acc: 0.4787\n",
      "Epoch 10/200\n",
      "211/211 [==============================] - 0s 421us/step - loss: -8.3112 - acc: 0.4787\n",
      "Epoch 11/200\n",
      "211/211 [==============================] - 0s 435us/step - loss: -8.3112 - acc: 0.4787\n",
      "Epoch 12/200\n",
      "211/211 [==============================] - 0s 435us/step - loss: -8.3112 - acc: 0.4787\n",
      "Epoch 13/200\n",
      "211/211 [==============================] - 0s 384us/step - loss: -8.3112 - acc: 0.4787\n",
      "Epoch 14/200\n",
      "211/211 [==============================] - 0s 406us/step - loss: -8.3112 - acc: 0.4787\n",
      "Epoch 15/200\n",
      "211/211 [==============================] - 0s 406us/step - loss: -8.3112 - acc: 0.4787\n",
      "Epoch 16/200\n",
      "211/211 [==============================] - 0s 468us/step - loss: -8.3112 - acc: 0.4787\n",
      "Epoch 17/200\n",
      "211/211 [==============================] - 0s 364us/step - loss: -8.3112 - acc: 0.4787\n",
      "Epoch 18/200\n",
      "211/211 [==============================] - 0s 354us/step - loss: -8.3112 - acc: 0.4787\n",
      "Epoch 19/200\n",
      "211/211 [==============================] - 0s 388us/step - loss: -8.3112 - acc: 0.4787\n",
      "Epoch 20/200\n",
      "211/211 [==============================] - 0s 378us/step - loss: -8.3112 - acc: 0.4787\n",
      "Epoch 21/200\n",
      "211/211 [==============================] - 0s 350us/step - loss: -8.3112 - acc: 0.4787\n",
      "Epoch 22/200\n",
      "211/211 [==============================] - 0s 369us/step - loss: -8.3112 - acc: 0.4787\n",
      "Epoch 23/200\n",
      "211/211 [==============================] - 0s 406us/step - loss: -8.3112 - acc: 0.4787\n",
      "Epoch 24/200\n",
      "211/211 [==============================] - 0s 383us/step - loss: -8.3112 - acc: 0.4787\n",
      "Epoch 25/200\n",
      "211/211 [==============================] - 0s 458us/step - loss: -8.3112 - acc: 0.4787\n",
      "Epoch 26/200\n",
      "211/211 [==============================] - 0s 477us/step - loss: -8.3112 - acc: 0.4787\n",
      "Epoch 27/200\n",
      "211/211 [==============================] - 0s 482us/step - loss: -8.3112 - acc: 0.4787\n",
      "Epoch 28/200\n",
      "211/211 [==============================] - 0s 468us/step - loss: -8.3112 - acc: 0.4787\n",
      "Epoch 29/200\n",
      "211/211 [==============================] - 0s 454us/step - loss: -8.3112 - acc: 0.4787\n",
      "Epoch 30/200\n",
      "211/211 [==============================] - 0s 430us/step - loss: -8.3112 - acc: 0.4787\n",
      "Epoch 31/200\n",
      "211/211 [==============================] - 0s 402us/step - loss: -8.3112 - acc: 0.4787\n",
      "Epoch 32/200\n",
      "211/211 [==============================] - 0s 411us/step - loss: -8.3112 - acc: 0.4787\n",
      "Epoch 33/200\n",
      "211/211 [==============================] - 0s 378us/step - loss: -8.3112 - acc: 0.4787\n",
      "Epoch 34/200\n",
      "211/211 [==============================] - 0s 421us/step - loss: -8.3112 - acc: 0.4787\n",
      "Epoch 35/200\n",
      "211/211 [==============================] - 0s 411us/step - loss: -8.3112 - acc: 0.4787\n",
      "Epoch 36/200\n",
      "211/211 [==============================] - 0s 425us/step - loss: -8.3112 - acc: 0.4787\n",
      "Epoch 37/200\n",
      "211/211 [==============================] - 0s 397us/step - loss: -8.3112 - acc: 0.4787\n",
      "Epoch 38/200\n",
      "211/211 [==============================] - 0s 402us/step - loss: -8.3112 - acc: 0.4787\n",
      "Epoch 39/200\n",
      "211/211 [==============================] - 0s 449us/step - loss: -8.3112 - acc: 0.4787\n",
      "Epoch 40/200\n",
      "211/211 [==============================] - 0s 402us/step - loss: -8.3112 - acc: 0.4787\n",
      "Epoch 41/200\n",
      "211/211 [==============================] - 0s 416us/step - loss: -8.3112 - acc: 0.4787\n",
      "Epoch 42/200\n",
      "211/211 [==============================] - 0s 378us/step - loss: -8.3112 - acc: 0.4787\n",
      "Epoch 43/200\n",
      "211/211 [==============================] - 0s 402us/step - loss: -8.3112 - acc: 0.4787\n",
      "Epoch 44/200\n",
      "211/211 [==============================] - 0s 435us/step - loss: -8.3112 - acc: 0.4787\n",
      "Epoch 45/200\n",
      "211/211 [==============================] - 0s 378us/step - loss: -8.3112 - acc: 0.4787\n",
      "Epoch 46/200\n",
      "211/211 [==============================] - 0s 435us/step - loss: -8.3112 - acc: 0.4787\n",
      "Epoch 47/200\n",
      "211/211 [==============================] - 0s 416us/step - loss: -8.3112 - acc: 0.4787\n",
      "Epoch 48/200\n",
      "211/211 [==============================] - 0s 392us/step - loss: -8.3112 - acc: 0.4787\n",
      "Epoch 49/200\n",
      "211/211 [==============================] - 0s 392us/step - loss: -8.3112 - acc: 0.4787\n",
      "Epoch 50/200\n",
      "211/211 [==============================] - 0s 378us/step - loss: -8.3112 - acc: 0.4787\n",
      "Epoch 51/200\n",
      "211/211 [==============================] - 0s 416us/step - loss: -8.3112 - acc: 0.4787\n",
      "Epoch 52/200\n",
      "211/211 [==============================] - 0s 406us/step - loss: -8.3112 - acc: 0.4787\n",
      "Epoch 53/200\n",
      "211/211 [==============================] - 0s 402us/step - loss: -8.3112 - acc: 0.4787\n",
      "Epoch 54/200\n",
      "211/211 [==============================] - 0s 406us/step - loss: -8.3112 - acc: 0.4787\n",
      "Epoch 55/200\n",
      "211/211 [==============================] - 0s 411us/step - loss: -8.3112 - acc: 0.4787\n",
      "Epoch 56/200\n",
      "211/211 [==============================] - 0s 392us/step - loss: -8.3112 - acc: 0.4787\n",
      "Epoch 57/200\n",
      "211/211 [==============================] - 0s 364us/step - loss: -8.3112 - acc: 0.4787\n",
      "Epoch 58/200\n",
      "211/211 [==============================] - 0s 416us/step - loss: -8.3112 - acc: 0.4787\n",
      "Epoch 59/200\n",
      "211/211 [==============================] - 0s 364us/step - loss: -8.3112 - acc: 0.4787\n",
      "Epoch 60/200\n",
      "211/211 [==============================] - 0s 402us/step - loss: -8.3112 - acc: 0.4787\n",
      "Epoch 61/200\n",
      "211/211 [==============================] - 0s 373us/step - loss: -8.3112 - acc: 0.4787\n",
      "Epoch 62/200\n",
      "211/211 [==============================] - 0s 347us/step - loss: -8.3112 - acc: 0.4787\n",
      "Epoch 63/200\n",
      "211/211 [==============================] - 0s 402us/step - loss: -8.3112 - acc: 0.4787\n",
      "Epoch 64/200\n",
      "211/211 [==============================] - 0s 359us/step - loss: -8.3112 - acc: 0.4787\n",
      "Epoch 65/200\n",
      "211/211 [==============================] - 0s 397us/step - loss: -8.3112 - acc: 0.4787\n",
      "Epoch 66/200\n",
      "211/211 [==============================] - 0s 369us/step - loss: -8.3112 - acc: 0.4787\n",
      "Epoch 67/200\n",
      "211/211 [==============================] - 0s 388us/step - loss: -8.3112 - acc: 0.4787\n",
      "Epoch 68/200\n",
      "211/211 [==============================] - 0s 383us/step - loss: -8.3112 - acc: 0.4787\n",
      "Epoch 69/200\n",
      "211/211 [==============================] - 0s 383us/step - loss: -8.3112 - acc: 0.4787\n",
      "Epoch 70/200\n",
      "211/211 [==============================] - 0s 392us/step - loss: -8.3112 - acc: 0.4787\n",
      "Epoch 71/200\n",
      "211/211 [==============================] - 0s 364us/step - loss: -8.3112 - acc: 0.4787\n",
      "Epoch 72/200\n",
      "211/211 [==============================] - 0s 369us/step - loss: -8.3112 - acc: 0.4787\n",
      "Epoch 73/200\n",
      "211/211 [==============================] - 0s 388us/step - loss: -8.3112 - acc: 0.4787\n",
      "Epoch 74/200\n",
      "211/211 [==============================] - 0s 364us/step - loss: -8.3112 - acc: 0.4787\n",
      "Epoch 75/200\n",
      "211/211 [==============================] - 0s 383us/step - loss: -8.3112 - acc: 0.4787\n",
      "Epoch 76/200\n",
      "211/211 [==============================] - 0s 383us/step - loss: -8.3112 - acc: 0.4787\n",
      "Epoch 77/200\n",
      "211/211 [==============================] - 0s 369us/step - loss: -8.3112 - acc: 0.4787\n",
      "Epoch 78/200\n",
      "211/211 [==============================] - 0s 373us/step - loss: -8.3112 - acc: 0.4787\n",
      "Epoch 79/200\n",
      "211/211 [==============================] - 0s 369us/step - loss: -8.3112 - acc: 0.4787\n",
      "Epoch 80/200\n",
      "211/211 [==============================] - 0s 345us/step - loss: -8.3112 - acc: 0.4787\n",
      "Epoch 81/200\n",
      "211/211 [==============================] - 0s 383us/step - loss: -8.3112 - acc: 0.4787\n",
      "Epoch 82/200\n",
      "211/211 [==============================] - 0s 397us/step - loss: -8.3112 - acc: 0.4787\n",
      "Epoch 83/200\n"
     ]
    },
    {
     "name": "stdout",
     "output_type": "stream",
     "text": [
      "211/211 [==============================] - 0s 402us/step - loss: -8.3112 - acc: 0.4787\n",
      "Epoch 84/200\n",
      "211/211 [==============================] - 0s 398us/step - loss: -8.3112 - acc: 0.4787\n",
      "Epoch 85/200\n",
      "211/211 [==============================] - 0s 435us/step - loss: -8.3112 - acc: 0.4787\n",
      "Epoch 86/200\n",
      "211/211 [==============================] - 0s 397us/step - loss: -8.3112 - acc: 0.4787\n",
      "Epoch 87/200\n",
      "211/211 [==============================] - 0s 392us/step - loss: -8.3112 - acc: 0.4787\n",
      "Epoch 88/200\n",
      "211/211 [==============================] - 0s 401us/step - loss: -8.3112 - acc: 0.4787\n",
      "Epoch 89/200\n",
      "211/211 [==============================] - 0s 397us/step - loss: -8.3112 - acc: 0.4787\n",
      "Epoch 90/200\n",
      "211/211 [==============================] - 0s 379us/step - loss: -8.3112 - acc: 0.4787\n",
      "Epoch 91/200\n",
      "211/211 [==============================] - 0s 355us/step - loss: -8.3112 - acc: 0.4787\n",
      "Epoch 92/200\n",
      "211/211 [==============================] - 0s 345us/step - loss: -8.3112 - acc: 0.4787\n",
      "Epoch 93/200\n",
      "211/211 [==============================] - 0s 355us/step - loss: -8.3112 - acc: 0.4787\n",
      "Epoch 94/200\n",
      "211/211 [==============================] - 0s 361us/step - loss: -8.3112 - acc: 0.4787\n",
      "Epoch 95/200\n",
      "211/211 [==============================] - 0s 325us/step - loss: -8.3112 - acc: 0.4787\n",
      "Epoch 96/200\n",
      "211/211 [==============================] - 0s 383us/step - loss: -8.3112 - acc: 0.4787\n",
      "Epoch 97/200\n",
      "211/211 [==============================] - 0s 397us/step - loss: -8.3112 - acc: 0.4787\n",
      "Epoch 98/200\n",
      "211/211 [==============================] - 0s 383us/step - loss: -8.3112 - acc: 0.4787\n",
      "Epoch 99/200\n",
      "211/211 [==============================] - 0s 388us/step - loss: -8.3112 - acc: 0.4787\n",
      "Epoch 100/200\n",
      "211/211 [==============================] - 0s 345us/step - loss: -8.3112 - acc: 0.4787\n",
      "Epoch 101/200\n",
      "211/211 [==============================] - 0s 361us/step - loss: -8.3112 - acc: 0.4787\n",
      "Epoch 102/200\n",
      "211/211 [==============================] - 0s 378us/step - loss: -8.3112 - acc: 0.4787\n",
      "Epoch 103/200\n",
      "211/211 [==============================] - 0s 359us/step - loss: -8.3112 - acc: 0.4787\n",
      "Epoch 104/200\n",
      "211/211 [==============================] - 0s 345us/step - loss: -8.3112 - acc: 0.4787\n",
      "Epoch 105/200\n",
      "211/211 [==============================] - 0s 331us/step - loss: -8.3112 - acc: 0.4787\n",
      "Epoch 106/200\n",
      "211/211 [==============================] - 0s 267us/step - loss: -8.3112 - acc: 0.4787\n",
      "Epoch 107/200\n",
      "211/211 [==============================] - 0s 391us/step - loss: -8.3112 - acc: 0.4787\n",
      "Epoch 108/200\n",
      "211/211 [==============================] - 0s 344us/step - loss: -8.3112 - acc: 0.4787\n",
      "Epoch 109/200\n",
      "211/211 [==============================] - 0s 354us/step - loss: -8.3112 - acc: 0.4787\n",
      "Epoch 110/200\n",
      "211/211 [==============================] - 0s 355us/step - loss: -8.3112 - acc: 0.4787\n",
      "Epoch 111/200\n",
      "211/211 [==============================] - 0s 369us/step - loss: -8.3112 - acc: 0.4787\n",
      "Epoch 112/200\n",
      "211/211 [==============================] - 0s 373us/step - loss: -8.3112 - acc: 0.4787\n",
      "Epoch 113/200\n",
      "211/211 [==============================] - 0s 300us/step - loss: -8.3112 - acc: 0.4787\n",
      "Epoch 114/200\n",
      "211/211 [==============================] - 0s 364us/step - loss: -8.3112 - acc: 0.4787\n",
      "Epoch 115/200\n",
      "211/211 [==============================] - 0s 370us/step - loss: -8.3112 - acc: 0.4787\n",
      "Epoch 116/200\n",
      "211/211 [==============================] - 0s 355us/step - loss: -8.3112 - acc: 0.4787\n",
      "Epoch 117/200\n",
      "211/211 [==============================] - 0s 324us/step - loss: -8.3112 - acc: 0.4787\n",
      "Epoch 118/200\n",
      "211/211 [==============================] - 0s 364us/step - loss: -8.3112 - acc: 0.4787\n",
      "Epoch 119/200\n",
      "211/211 [==============================] - 0s 340us/step - loss: -8.3112 - acc: 0.4787\n",
      "Epoch 120/200\n",
      "211/211 [==============================] - 0s 333us/step - loss: -8.3112 - acc: 0.4787\n",
      "Epoch 121/200\n",
      "211/211 [==============================] - 0s 349us/step - loss: -8.3112 - acc: 0.4787\n",
      "Epoch 122/200\n",
      "211/211 [==============================] - 0s 355us/step - loss: -8.3112 - acc: 0.4787\n",
      "Epoch 123/200\n",
      "211/211 [==============================] - 0s 326us/step - loss: -8.3112 - acc: 0.4787\n",
      "Epoch 124/200\n",
      "211/211 [==============================] - 0s 324us/step - loss: -8.3112 - acc: 0.4787\n",
      "Epoch 125/200\n",
      "211/211 [==============================] - 0s 331us/step - loss: -8.3112 - acc: 0.4787\n",
      "Epoch 126/200\n",
      "211/211 [==============================] - 0s 340us/step - loss: -8.3112 - acc: 0.4787\n",
      "Epoch 127/200\n",
      "211/211 [==============================] - 0s 340us/step - loss: -8.3112 - acc: 0.4787\n",
      "Epoch 128/200\n",
      "211/211 [==============================] - 0s 369us/step - loss: -8.3112 - acc: 0.4787\n",
      "Epoch 129/200\n",
      "211/211 [==============================] - 0s 350us/step - loss: -8.3112 - acc: 0.4787\n",
      "Epoch 130/200\n",
      "211/211 [==============================] - 0s 345us/step - loss: -8.3112 - acc: 0.4787\n",
      "Epoch 131/200\n",
      "211/211 [==============================] - 0s 327us/step - loss: -8.3112 - acc: 0.4787\n",
      "Epoch 132/200\n",
      "211/211 [==============================] - 0s 336us/step - loss: -8.3112 - acc: 0.4787\n",
      "Epoch 133/200\n",
      "211/211 [==============================] - 0s 345us/step - loss: -8.3112 - acc: 0.4787\n",
      "Epoch 134/200\n",
      "211/211 [==============================] - 0s 288us/step - loss: -8.3112 - acc: 0.4787\n",
      "Epoch 135/200\n",
      "211/211 [==============================] - 0s 336us/step - loss: -8.3112 - acc: 0.4787\n",
      "Epoch 136/200\n",
      "211/211 [==============================] - 0s 350us/step - loss: -8.3112 - acc: 0.4787\n",
      "Epoch 137/200\n",
      "211/211 [==============================] - 0s 340us/step - loss: -8.3112 - acc: 0.4787\n",
      "Epoch 138/200\n",
      "211/211 [==============================] - 0s 355us/step - loss: -8.3112 - acc: 0.4787\n",
      "Epoch 139/200\n",
      "211/211 [==============================] - 0s 345us/step - loss: -8.3112 - acc: 0.4787\n",
      "Epoch 140/200\n",
      "211/211 [==============================] - 0s 336us/step - loss: -8.3112 - acc: 0.4787\n",
      "Epoch 141/200\n",
      "211/211 [==============================] - 0s 294us/step - loss: -8.3112 - acc: 0.4787\n",
      "Epoch 142/200\n",
      "211/211 [==============================] - 0s 345us/step - loss: -8.3112 - acc: 0.4787\n",
      "Epoch 143/200\n",
      "211/211 [==============================] - 0s 392us/step - loss: -8.3112 - acc: 0.4787\n",
      "Epoch 144/200\n",
      "211/211 [==============================] - 0s 355us/step - loss: -8.3112 - acc: 0.4787\n",
      "Epoch 145/200\n",
      "211/211 [==============================] - 0s 350us/step - loss: -8.3112 - acc: 0.4787\n",
      "Epoch 146/200\n",
      "211/211 [==============================] - 0s 350us/step - loss: -8.3112 - acc: 0.4787\n",
      "Epoch 147/200\n",
      "211/211 [==============================] - 0s 336us/step - loss: -8.3112 - acc: 0.4787\n",
      "Epoch 148/200\n",
      "211/211 [==============================] - 0s 369us/step - loss: -8.3112 - acc: 0.4787\n",
      "Epoch 149/200\n",
      "211/211 [==============================] - 0s 340us/step - loss: -8.3112 - acc: 0.4787\n",
      "Epoch 150/200\n",
      "211/211 [==============================] - 0s 340us/step - loss: -8.3112 - acc: 0.4787\n",
      "Epoch 151/200\n",
      "211/211 [==============================] - 0s 336us/step - loss: -8.3112 - acc: 0.4787\n",
      "Epoch 152/200\n",
      "211/211 [==============================] - 0s 350us/step - loss: -8.3112 - acc: 0.4787\n",
      "Epoch 153/200\n",
      "211/211 [==============================] - 0s 364us/step - loss: -8.3112 - acc: 0.4787\n",
      "Epoch 154/200\n",
      "211/211 [==============================] - 0s 350us/step - loss: -8.3112 - acc: 0.4787\n",
      "Epoch 155/200\n",
      "211/211 [==============================] - 0s 364us/step - loss: -8.3112 - acc: 0.4787\n",
      "Epoch 156/200\n",
      "211/211 [==============================] - 0s 340us/step - loss: -8.3112 - acc: 0.4787\n",
      "Epoch 157/200\n",
      "211/211 [==============================] - 0s 392us/step - loss: -8.3112 - acc: 0.4787\n",
      "Epoch 158/200\n",
      "211/211 [==============================] - 0s 340us/step - loss: -8.3112 - acc: 0.4787\n",
      "Epoch 159/200\n",
      "211/211 [==============================] - 0s 364us/step - loss: -8.3112 - acc: 0.4787\n",
      "Epoch 160/200\n",
      "211/211 [==============================] - 0s 359us/step - loss: -8.3112 - acc: 0.4787\n",
      "Epoch 161/200\n",
      "211/211 [==============================] - 0s 355us/step - loss: -8.3112 - acc: 0.4787\n",
      "Epoch 162/200\n",
      "211/211 [==============================] - 0s 364us/step - loss: -8.3112 - acc: 0.4787\n",
      "Epoch 163/200\n",
      "211/211 [==============================] - 0s 350us/step - loss: -8.3112 - acc: 0.4787\n",
      "Epoch 164/200\n"
     ]
    },
    {
     "name": "stdout",
     "output_type": "stream",
     "text": [
      "211/211 [==============================] - 0s 336us/step - loss: -8.3112 - acc: 0.4787\n",
      "Epoch 165/200\n",
      "211/211 [==============================] - 0s 340us/step - loss: -8.3112 - acc: 0.4787\n",
      "Epoch 166/200\n",
      "211/211 [==============================] - 0s 336us/step - loss: -8.3112 - acc: 0.4787\n",
      "Epoch 167/200\n",
      "211/211 [==============================] - 0s 345us/step - loss: -8.3112 - acc: 0.4787\n",
      "Epoch 168/200\n",
      "211/211 [==============================] - 0s 324us/step - loss: -8.3112 - acc: 0.4787\n",
      "Epoch 169/200\n",
      "211/211 [==============================] - 0s 350us/step - loss: -8.3112 - acc: 0.4787\n",
      "Epoch 170/200\n",
      "211/211 [==============================] - 0s 350us/step - loss: -8.3112 - acc: 0.4787\n",
      "Epoch 171/200\n",
      "211/211 [==============================] - 0s 392us/step - loss: -8.3112 - acc: 0.4787\n",
      "Epoch 172/200\n",
      "211/211 [==============================] - 0s 252us/step - loss: -8.3112 - acc: 0.4787\n",
      "Epoch 173/200\n",
      "211/211 [==============================] - 0s 413us/step - loss: -8.3112 - acc: 0.4787\n",
      "Epoch 174/200\n",
      "211/211 [==============================] - 0s 336us/step - loss: -8.3112 - acc: 0.4787\n",
      "Epoch 175/200\n",
      "211/211 [==============================] - 0s 361us/step - loss: -8.3112 - acc: 0.4787\n",
      "Epoch 176/200\n",
      "211/211 [==============================] - 0s 345us/step - loss: -8.3112 - acc: 0.4787\n",
      "Epoch 177/200\n",
      "211/211 [==============================] - 0s 354us/step - loss: -8.3112 - acc: 0.4787\n",
      "Epoch 178/200\n",
      "211/211 [==============================] - 0s 340us/step - loss: -8.3112 - acc: 0.4787\n",
      "Epoch 179/200\n",
      "211/211 [==============================] - 0s 354us/step - loss: -8.3112 - acc: 0.4787\n",
      "Epoch 180/200\n",
      "211/211 [==============================] - 0s 350us/step - loss: -8.3112 - acc: 0.4787\n",
      "Epoch 181/200\n",
      "211/211 [==============================] - 0s 247us/step - loss: -8.3112 - acc: 0.4787\n",
      "Epoch 182/200\n",
      "211/211 [==============================] - 0s 367us/step - loss: -8.3112 - acc: 0.4787\n",
      "Epoch 183/200\n",
      "211/211 [==============================] - 0s 341us/step - loss: -8.3112 - acc: 0.4787\n",
      "Epoch 184/200\n",
      "211/211 [==============================] - 0s 345us/step - loss: -8.3112 - acc: 0.4787\n",
      "Epoch 185/200\n",
      "211/211 [==============================] - 0s 383us/step - loss: -8.3112 - acc: 0.4787\n",
      "Epoch 186/200\n",
      "211/211 [==============================] - 0s 331us/step - loss: -8.3112 - acc: 0.4787\n",
      "Epoch 187/200\n",
      "211/211 [==============================] - 0s 322us/step - loss: -8.3112 - acc: 0.4787\n",
      "Epoch 188/200\n",
      "211/211 [==============================] - 0s 357us/step - loss: -8.3112 - acc: 0.4787\n",
      "Epoch 189/200\n",
      "211/211 [==============================] - 0s 359us/step - loss: -8.3112 - acc: 0.4787\n",
      "Epoch 190/200\n",
      "211/211 [==============================] - 0s 251us/step - loss: -8.3112 - acc: 0.4787\n",
      "Epoch 191/200\n",
      "211/211 [==============================] - 0s 406us/step - loss: -8.3112 - acc: 0.4787\n",
      "Epoch 192/200\n",
      "211/211 [==============================] - 0s 316us/step - loss: -8.3112 - acc: 0.4787\n",
      "Epoch 193/200\n",
      "211/211 [==============================] - 0s 383us/step - loss: -8.3112 - acc: 0.4787\n",
      "Epoch 194/200\n",
      "211/211 [==============================] - 0s 373us/step - loss: -8.3112 - acc: 0.4787\n",
      "Epoch 195/200\n",
      "211/211 [==============================] - 0s 339us/step - loss: -8.3112 - acc: 0.4787\n",
      "Epoch 196/200\n",
      "211/211 [==============================] - 0s 307us/step - loss: -8.3112 - acc: 0.4787\n",
      "Epoch 197/200\n",
      "211/211 [==============================] - 0s 329us/step - loss: -8.3112 - acc: 0.4787\n",
      "Epoch 198/200\n",
      "211/211 [==============================] - 0s 348us/step - loss: -8.3112 - acc: 0.4787\n",
      "Epoch 199/200\n",
      "211/211 [==============================] - 0s 378us/step - loss: -8.3112 - acc: 0.4787\n",
      "Epoch 200/200\n",
      "211/211 [==============================] - 0s 318us/step - loss: -8.3112 - acc: 0.4787\n"
     ]
    },
    {
     "data": {
      "text/plain": [
       "<keras.callbacks.History at 0x145d6d366a0>"
      ]
     },
     "execution_count": 41,
     "metadata": {},
     "output_type": "execute_result"
    }
   ],
   "source": [
    "model.fit(np.array(features), classes,batch_size=10)"
   ]
  },
  {
   "cell_type": "code",
   "execution_count": 43,
   "metadata": {},
   "outputs": [
    {
     "name": "stdout",
     "output_type": "stream",
     "text": [
      "45/45 [==============================] - 0s 3ms/step\n"
     ]
    },
    {
     "data": {
      "text/plain": [
       "[-7.794055048624674, 0.5111111111111111]"
      ]
     },
     "execution_count": 43,
     "metadata": {},
     "output_type": "execute_result"
    }
   ],
   "source": [
    "model.evaluate(np.array(test_features),test_classes)"
   ]
  }
 ],
 "metadata": {
  "kernelspec": {
   "display_name": "Python 3",
   "language": "python",
   "name": "python3"
  },
  "language_info": {
   "codemirror_mode": {
    "name": "ipython",
    "version": 3
   },
   "file_extension": ".py",
   "mimetype": "text/x-python",
   "name": "python",
   "nbconvert_exporter": "python",
   "pygments_lexer": "ipython3",
   "version": "3.6.1"
  }
 },
 "nbformat": 4,
 "nbformat_minor": 2
}
